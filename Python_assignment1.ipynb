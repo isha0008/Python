{
 "cells": [
  {
   "cell_type": "code",
   "execution_count": 3,
   "id": "63a3bd2b-c6a7-4c89-b731-72ad4bb9b27c",
   "metadata": {},
   "outputs": [],
   "source": [
    "import numpy as np \n"
   ]
  },
  {
   "cell_type": "code",
   "execution_count": 13,
   "id": "9df3e51c-1532-4758-8017-1ff927548f4b",
   "metadata": {},
   "outputs": [
    {
     "name": "stdout",
     "output_type": "stream",
     "text": [
      "9\n",
      "1\n"
     ]
    }
   ],
   "source": [
    "given_matrix = np.array([[1 , 2 ,3 ] , [4 ,5 ,6 ] , [7 , 8 ,9]])\n",
    "maximum = np.max(given_matrix)\n",
    "print(maximum)\n",
    "minimum = np.min(given_matrix)\n",
    "print(minimum)"
   ]
  },
  {
   "cell_type": "code",
   "execution_count": 25,
   "id": "9670ba2c-a117-46e0-934a-e49d8a340bbe",
   "metadata": {},
   "outputs": [
    {
     "name": "stdout",
     "output_type": "stream",
     "text": [
      "62\n"
     ]
    }
   ],
   "source": [
    "#2 \n",
    "#A Number of rows and column in the array\n",
    "my_array = np.array([[ 3,5,8] , [6,7,9] , [9,12,3]])\n",
    "my_array.shape\n",
    "\n",
    "#B Sum of the values in the matrix\n",
    "sum_of_matrix = np.sum(my_array)\n",
    "print(sum_of_matrix)\n"
   ]
  },
  {
   "cell_type": "code",
   "execution_count": 37,
   "id": "2ff11c3c-cd86-402b-9620-4897f6ed9d84",
   "metadata": {},
   "outputs": [
    {
     "data": {
      "text/plain": [
       "array([[ 6, 14, 12],\n",
       "       [12, 10,  2],\n",
       "       [12, 15,  2]])"
      ]
     },
     "execution_count": 37,
     "metadata": {},
     "output_type": "execute_result"
    }
   ],
   "source": [
    "#3 \n",
    "#A\n",
    "m1 = np.array([[2,8,10] , [3,5,1] , [7,12,0]])\n",
    "m2 = np.array([[4,6,2] , [9,5,1] , [5,3,2]])\n",
    "m_add = np.add(m1 , m2)\n",
    "m_add\n"
   ]
  },
  {
   "cell_type": "code",
   "execution_count": 35,
   "id": "02470df5-350c-4e86-90f4-a27b042f457d",
   "metadata": {},
   "outputs": [
    {
     "data": {
      "text/plain": [
       "array([[-2,  2,  8],\n",
       "       [-6,  0,  0],\n",
       "       [ 2,  9, -2]])"
      ]
     },
     "execution_count": 35,
     "metadata": {},
     "output_type": "execute_result"
    }
   ],
   "source": [
    "m_sub = np.subtract( m1 ,m2)\n",
    "m_sub"
   ]
  },
  {
   "cell_type": "code",
   "execution_count": 41,
   "id": "85527de0-c719-47c1-a5f9-c3fe284131d0",
   "metadata": {},
   "outputs": [
    {
     "data": {
      "text/plain": [
       "array([[ 8, 48, 20],\n",
       "       [27, 25,  1],\n",
       "       [35, 36,  0]])"
      ]
     },
     "execution_count": 41,
     "metadata": {},
     "output_type": "execute_result"
    }
   ],
   "source": [
    "m_mutiply = np.multiply(m1 , m2)\n",
    "m_mutiply"
   ]
  },
  {
   "cell_type": "code",
   "execution_count": 111,
   "id": "ce670f71-5915-4205-8528-6779d0aad6b1",
   "metadata": {},
   "outputs": [
    {
     "name": "stdout",
     "output_type": "stream",
     "text": [
      "[4, 5, 6, 10, 5, 10, 45, 54, 12, 45, 23]\n",
      "{4: 1, 5: 2, 6: 1, 10: 2, 45: 2, 54: 1, 12: 1, 23: 1}\n",
      "[4, 5, 6, 10, 5, 10, 45, 54, 12, 45, 23]\n"
     ]
    }
   ],
   "source": [
    "#4Count the frequency of unique values in Numpy array\n",
    "#convert into list\n",
    "my_array = ([ 4 ,5 ,6 ,10 ,5 , 10 , 45 ,54 ,12 , 45 , 23])\n",
    "my_list = list(my_array)\n",
    "print(my_list)\n",
    "empty_dict = {}\n",
    "for i in my_array:\n",
    "    if i in empty_dict :\n",
    "       empty_dict[i] += 1\n",
    "    else :\n",
    "       empty_dict[i] = 1\n",
    "print(empty_dict)\n",
    "        \n",
    "print(my_list) "
   ]
  },
  {
   "cell_type": "code",
   "execution_count": 69,
   "id": "c390e831-be72-471a-a2f4-f71a65e2c1a7",
   "metadata": {},
   "outputs": [
    {
     "data": {
      "text/plain": [
       "array([6, 2, 3, 0, 2, 0, 3])"
      ]
     },
     "execution_count": 69,
     "metadata": {},
     "output_type": "execute_result"
    }
   ],
   "source": [
    "#negative into zeros\n",
    "na = np.array([6,2,3,-4,2,-2,3])\n",
    "no_negative = np.where(na < 0 , 0,na)  #np.where(condition , value_if_true , vvalue_if_false)\n",
    "no_negative\n"
   ]
  },
  {
   "cell_type": "code",
   "execution_count": 73,
   "id": "ecb6abb6-d42f-4cf7-b706-e3c27de7e434",
   "metadata": {},
   "outputs": [
    {
     "data": {
      "text/plain": [
       "40.0"
      ]
     },
     "execution_count": 73,
     "metadata": {},
     "output_type": "execute_result"
    }
   ],
   "source": [
    "#5. Statistical operations\n",
    "#!. Median\n",
    "my_array = ([[20,30,40],[50,60,70],[20,10,80]])\n",
    "my_median = np.median(my_array)\n",
    "my_median"
   ]
  },
  {
   "cell_type": "code",
   "execution_count": 77,
   "id": "214c879c-d954-4ca0-a388-34abbbcdbfc8",
   "metadata": {},
   "outputs": [
    {
     "data": {
      "text/plain": [
       "42.22222222222222"
      ]
     },
     "execution_count": 77,
     "metadata": {},
     "output_type": "execute_result"
    }
   ],
   "source": [
    "#2.Mean\n",
    "my_mean = np.mean(my_array)\n",
    "my_mean"
   ]
  },
  {
   "cell_type": "code",
   "execution_count": 85,
   "id": "8321ec32-6062-42ee-b42f-6a6ea076d37b",
   "metadata": {},
   "outputs": [
    {
     "data": {
      "text/plain": [
       "528.395061728395"
      ]
     },
     "execution_count": 85,
     "metadata": {},
     "output_type": "execute_result"
    }
   ],
   "source": [
    "my_variance = np.var(my_array)\n",
    "my_variance"
   ]
  },
  {
   "cell_type": "code",
   "execution_count": 87,
   "id": "cca92e68-3120-471e-b411-a1569eccedf3",
   "metadata": {},
   "outputs": [
    {
     "name": "stdout",
     "output_type": "stream",
     "text": [
      "22.98684540619689\n"
     ]
    }
   ],
   "source": [
    "standard_dev = np.std(my_array)\n",
    "print(standard_dev)"
   ]
  },
  {
   "cell_type": "code",
   "execution_count": 36,
   "id": "3b87c201-c963-4386-8abb-bc0e67d0f553",
   "metadata": {},
   "outputs": [
    {
     "data": {
      "text/plain": [
       "array([[100, 110],\n",
       "       [120, 130],\n",
       "       [140, 150],\n",
       "       [160, 170],\n",
       "       [180, 190]])"
      ]
     },
     "execution_count": 36,
     "metadata": {},
     "output_type": "execute_result"
    }
   ],
   "source": [
    "#6\n",
    "import numpy as np \n",
    "my_array = np.arange(100 , 200 , 10)\n",
    "my_array.reshape(5,2)\n"
   ]
  },
  {
   "cell_type": "code",
   "execution_count": 40,
   "id": "23a57c61-8cb5-40d8-9808-b4b08176ccab",
   "metadata": {},
   "outputs": [
    {
     "data": {
      "text/plain": [
       "array([33, 66, 99])"
      ]
     },
     "execution_count": 40,
     "metadata": {},
     "output_type": "execute_result"
    }
   ],
   "source": [
    "#7. Return \n",
    "sample_array = np.array([[11,22,33] , [44,55,66],[77,88,99]])\n",
    "sample_array[: ,2]"
   ]
  },
  {
   "cell_type": "code",
   "execution_count": null,
   "id": "711261f1-0942-45cd-a5eb-a2463ece5307",
   "metadata": {},
   "outputs": [],
   "source": []
  }
 ],
 "metadata": {
  "kernelspec": {
   "display_name": "Python [conda env:base] *",
   "language": "python",
   "name": "conda-base-py"
  },
  "language_info": {
   "codemirror_mode": {
    "name": "ipython",
    "version": 3
   },
   "file_extension": ".py",
   "mimetype": "text/x-python",
   "name": "python",
   "nbconvert_exporter": "python",
   "pygments_lexer": "ipython3",
   "version": "3.12.7"
  }
 },
 "nbformat": 4,
 "nbformat_minor": 5
}
